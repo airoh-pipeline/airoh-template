{
 "cells": [
  {
   "cell_type": "code",
   "execution_count": 1,
   "id": "dad6d7ff-6b7a-4425-addb-8a38a875a4b8",
   "metadata": {
    "execution": {
     "iopub.execute_input": "2025-06-07T23:43:16.726460Z",
     "iopub.status.busy": "2025-06-07T23:43:16.726122Z",
     "iopub.status.idle": "2025-06-07T23:43:16.918395Z",
     "shell.execute_reply": "2025-06-07T23:43:16.917931Z"
    }
   },
   "outputs": [
    {
     "name": "stdout",
     "output_type": "stream",
     "text": [
      "✅ Saved authors list to /home/pbellec/git/airoh-template/output_data/authors.csv\n"
     ]
    }
   ],
   "source": [
    "import os\n",
    "import pandas as pd\n",
    "from pathlib import Path\n",
    "\n",
    "# Resolve output directory from environment variable\n",
    "output_dir = Path(os.environ.get(\"OUTPUT_DIR\", \"output_data\")).resolve()\n",
    "source_dir = Path(os.environ.get(\"SOURCE_DATA_DIR\", \"source_data\")).resolve()\n",
    "input_file = source_dir / \"YNIMG_BrainParcellation_summary.tsv\"\n",
    "output_file = output_dir / \"authors.csv\"\n",
    "\n",
    "# Load the dataset\n",
    "df = pd.read_csv(input_file, sep=\"\\t\")\n",
    "\n",
    "# Extract authors (if column exists)\n",
    "if \"Author\" in df.columns:\n",
    "    authors = df[[\"Author\"]]\n",
    "    authors.to_csv(output_file, index=False)\n",
    "    print(f\"✅ Saved authors list to {output_file}\")\n",
    "else:\n",
    "    print(\"❌ No 'Author' column found in the input data.\")\n"
   ]
  }
 ],
 "metadata": {
  "kernelspec": {
   "display_name": "Python 3 (ipykernel)",
   "language": "python",
   "name": "python3"
  },
  "language_info": {
   "codemirror_mode": {
    "name": "ipython",
    "version": 3
   },
   "file_extension": ".py",
   "mimetype": "text/x-python",
   "name": "python",
   "nbconvert_exporter": "python",
   "pygments_lexer": "ipython3",
   "version": "3.10.12"
  }
 },
 "nbformat": 4,
 "nbformat_minor": 5
}
